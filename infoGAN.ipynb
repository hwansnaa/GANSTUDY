{
  "nbformat": 4,
  "nbformat_minor": 0,
  "metadata": {
    "colab": {
      "name": "infoGAN.ipynb의 사본",
      "provenance": [],
      "authorship_tag": "ABX9TyPy//ISFnItDZEbIq46m4gm",
      "include_colab_link": true
    },
    "kernelspec": {
      "name": "python3",
      "display_name": "Python 3"
    },
    "language_info": {
      "name": "python"
    },
    "accelerator": "GPU"
  },
  "cells": [
    {
      "cell_type": "markdown",
      "metadata": {
        "id": "view-in-github",
        "colab_type": "text"
      },
      "source": [
        "<a href=\"https://colab.research.google.com/github/hwansnaa/InfoGAN/blob/main/infoGAN.ipynb\" target=\"_parent\"><img src=\"https://colab.research.google.com/assets/colab-badge.svg\" alt=\"Open In Colab\"/></a>"
      ]
    },
    {
      "cell_type": "code",
      "execution_count": 23,
      "metadata": {
        "id": "5WajrzL8H79Z"
      },
      "outputs": [],
      "source": [
        "import os\n",
        "import cv2\n",
        "import time\n",
        "import random\n",
        "import numpy as np\n",
        "import matplotlib.pyplot as plt\n",
        "import matplotlib.animation as animation\n",
        "\n",
        "import torch\n",
        "import torch.nn as nn\n",
        "import torch.optim as optim\n",
        "import torch.nn.functional as F\n",
        "import torchvision.utils as vutils\n",
        "import torchvision.datasets as dsets\n",
        "import torchvision.transforms as transforms"
      ]
    },
    {
      "cell_type": "markdown",
      "source": [
        "MNIST"
      ],
      "metadata": {
        "id": "D9yW-ANxZMq-"
      }
    },
    {
      "cell_type": "code",
      "source": [
        "class Generator(nn.Module):\n",
        "    def __init__(self):\n",
        "        super().__init__()\n",
        "\n",
        "        self.tconv1 = nn.ConvTranspose2d(74, 1024, 1, 1, bias=False)\n",
        "        self.bn1 = nn.BatchNorm2d(1024)\n",
        "\n",
        "        self.tconv2 = nn.ConvTranspose2d(1024, 128, 7, 1, bias=False)\n",
        "        self.bn2 = nn.BatchNorm2d(128)\n",
        "\n",
        "        self.tconv3 = nn.ConvTranspose2d(128, 64, 4, 2, padding=1, bias=False)\n",
        "        self.bn3 = nn.BatchNorm2d(64)\n",
        "\n",
        "        self.tconv4 = nn.ConvTranspose2d(64, 1, 4, 2, padding=1, bias=False)\n",
        "\n",
        "    def forward(self, x):\n",
        "        x = F.relu(self.bn1(self.tconv1(x)))\n",
        "        x = F.relu(self.bn2(self.tconv2(x)))\n",
        "        x = F.relu(self.bn3(self.tconv3(x)))\n",
        "\n",
        "        img = torch.sigmoid(self.tconv4(x))\n",
        "\n",
        "        return img\n",
        "\n",
        "class Discriminator(nn.Module):\n",
        "    def __init__(self):\n",
        "        super().__init__()\n",
        "\n",
        "        self.conv1 = nn.Conv2d(1, 64, 4, 2, 1)\n",
        "\n",
        "        self.conv2 = nn.Conv2d(64, 128, 4, 2, 1, bias=False)\n",
        "        self.bn2 = nn.BatchNorm2d(128)\n",
        "\n",
        "        self.conv3 = nn.Conv2d(128, 1024, 7, bias=False)\n",
        "        self.bn3 = nn.BatchNorm2d(1024)\n",
        "\n",
        "        self.conv4 = nn.Conv2d(1024, 1, 1)\n",
        "\n",
        "    def forward(self, x):\n",
        "        x = F.leaky_relu(self.conv1(x), 0.1, inplace=True)\n",
        "        x = F.leaky_relu(self.bn2(self.conv2(x)), 0.1, inplace=True)\n",
        "        output = F.leaky_relu(self.bn3(self.conv3(x)), 0.1, inplace=True)\n",
        "        probs = torch.sigmoid(self.conv4(output))\n",
        "\n",
        "        return probs, output\n",
        "\n",
        "class QHead(nn.Module):\n",
        "    def __init__(self):\n",
        "        super().__init__()\n",
        "\n",
        "        self.conv1 = nn.Conv2d(1024, 128, 1, bias=False)\n",
        "        self.bn1 = nn.BatchNorm2d(128)\n",
        "\n",
        "        self.conv_disc = nn.Conv2d(128, 10, 1)\n",
        "        self.conv_mu = nn.Conv2d(128, 2, 1)\n",
        "        self.conv_var = nn.Conv2d(128, 2, 1)\n",
        "\n",
        "    def forward(self, x):\n",
        "        x = F.leaky_relu(self.bn1(self.conv1(x)), 0.1, inplace=True)\n",
        "\n",
        "        disc_logits = self.conv_disc(x).squeeze()\n",
        "\n",
        "        mu = self.conv_mu(x).squeeze()\n",
        "        var = torch.exp(self.conv_var(x).squeeze())\n",
        "\n",
        "        return disc_logits, mu, var"
      ],
      "metadata": {
        "id": "V-7AEgFCZ_qs"
      },
      "execution_count": 52,
      "outputs": []
    },
    {
      "cell_type": "markdown",
      "source": [
        "![torch.nn.conv2d.png](data:image/png;base64,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)"
      ],
      "metadata": {
        "id": "5UlsNZKi8zvv"
      }
    },
    {
      "cell_type": "code",
      "source": [
        "params = {\n",
        "    'batch_size': 128,# Batch size.\n",
        "    'num_epochs': 100,# Number of epochs to train for.\n",
        "    'learning_rate': 2e-4,# Learning rate.\n",
        "    'beta1': 0.5,\n",
        "    'beta2': 0.999,\n",
        "    'save_epoch' : 25,\n",
        "    'dataset' : 'MNIST'\n",
        "}\n",
        "params['num_z'] = 62\n",
        "params['num_dis_c'] = 1\n",
        "params['dis_c_dim'] = 10\n",
        "params['num_con_c'] = 2"
      ],
      "metadata": {
        "id": "NLkX4cfslyeo"
      },
      "execution_count": 4,
      "outputs": []
    },
    {
      "cell_type": "code",
      "source": [
        "def noise_sample(n_dis_c, dis_c_dim, n_con_c, n_z, batch_size, device):\n",
        "    \"\"\"\n",
        "    input -> \n",
        "    n_dis_c : Discrete latent value의 수(mnist의 경우 1 (Domain))\n",
        "    dis_c_dim : Disctrete latent value의 Dimension(mnist의 경우 10 (0-9의 class 수))\n",
        "    n_con_c : Continuous latent value의 수(mnist의 경우 2(bold, rotate))\n",
        "    n_z : random noise z의 dimension\n",
        "    batch_size : Batch Size\n",
        "    device : GPU/CPU\n",
        "\n",
        "    output -> \n",
        "    noise : 생성된 noise\n",
        "    idx : 생성된 이미지의 Class value\n",
        "\n",
        "    \"\"\"\n",
        "    z = torch.randn(batch_size, n_z, 1, 1, device=device)\n",
        "\n",
        "    idx = np.zeros((n_dis_c, batch_size))\n",
        "    if(n_dis_c != 0):\n",
        "        dis_c = torch.zeros(batch_size, n_dis_c, dis_c_dim, device=device)\n",
        "        \n",
        "        for i in range(n_dis_c):\n",
        "            idx[i] = np.random.randint(dis_c_dim, size=batch_size)\n",
        "            dis_c[torch.arange(0, batch_size), i, idx[i]] = 1.0\n",
        "\n",
        "        dis_c = dis_c.view(batch_size, -1, 1, 1)\n",
        "\n",
        "    if(n_con_c != 0):\n",
        "        # Random uniform between -1 and 1.\n",
        "        con_c = torch.rand(batch_size, n_con_c, 1, 1, device=device) * 2 - 1\n",
        "\n",
        "    noise = z\n",
        "    if(n_dis_c != 0):\n",
        "        noise = torch.cat((z, dis_c), dim=1)\n",
        "    if(n_con_c != 0):\n",
        "        noise = torch.cat((noise, con_c), dim=1)\n",
        "\n",
        "    return noise, idx"
      ],
      "metadata": {
        "id": "Z4nNMMx-thye"
      },
      "execution_count": 14,
      "outputs": []
    },
    {
      "cell_type": "code",
      "source": [
        "class InfoGAN:\n",
        "  def __init__(self, params):\n",
        "      self.params = params\n",
        "      self.netG = Generator()\n",
        "      self.netD = Discriminator()\n",
        "      self.netQ = QHead()\n",
        "      self.optimD = optim.Adam([{'params': self.netD.parameters()}], lr=params['learning_rate'], betas=(params['beta1'], params['beta2']))\n",
        "      self.optimG = optim.Adam([{'params': self.netG.parameters()}, {'params': self.netQ.parameters()}], lr=params['learning_rate'], betas=(params['beta1'], params['beta2']))\n",
        "\n",
        "      self.criterionD = nn.BCELoss() # Binary CrossEntropy / True, False\n",
        "      self.criterionQ_dis = nn.CrossEntropyLoss() # Multiple Class\n",
        "      self.criterionQ_con = nn.GaussianNLLLoss()\n",
        "      \n",
        "      self.device = torch.device(\"cuda:0\" if (torch.cuda.is_available()) else \"cpu\")\n",
        "\n",
        "  def train(self, ds, epochs = 100):\n",
        "    self.netG = self.netG.to(self.device)\n",
        "    self.netD = self.netD.to(self.device)\n",
        "    self.netQ = self.netQ.to(self.device)\n",
        "    self.G_losses = []\n",
        "    self.D_losses = []\n",
        "    self.val_outputs = []\n",
        "    self.val_noise, idx = noise_sample(self.params['num_dis_c'], self.params['dis_c_dim'], self.params['num_con_c'], self.params['num_z'], 36, self.device)\n",
        "    for epoch in range(epochs):\n",
        "      for i, (data, _) in enumerate(ds, 0):\n",
        "          # Get batch size\n",
        "          b_size = data.size(0)\n",
        "          # Transfer data tensor to GPU/CPU (device)\n",
        "          real_data = data.to(self.device)\n",
        "\n",
        "          self.optimD.zero_grad()\n",
        "\n",
        "          # Real data\n",
        "          label = torch.full((b_size, ), 1, device=self.device, dtype=torch.float32)\n",
        "          probs_real, _ = self.netD(real_data)\n",
        "          loss_real = self.criterionD(probs_real.view(-1), label)\n",
        "          \n",
        "          loss_real.backward()\n",
        "\n",
        "          # Fake data\n",
        "          label.fill_(0)\n",
        "          noise, idx = noise_sample(self.params['num_dis_c'], self.params['dis_c_dim'], self.params['num_con_c'], self.params['num_z'], b_size, self.device)\n",
        "          fake_data = self.netG(noise)\n",
        "          probs_fake, output_fake = self.netD(fake_data.detach())\n",
        "          loss_fake = self.criterionD(probs_fake.view(-1), label)\n",
        "          \n",
        "          loss_fake.backward()\n",
        "\n",
        "          # Net Loss for the discriminator & Update\n",
        "          D_loss = loss_real + loss_fake\n",
        "          \n",
        "          self.optimD.step()\n",
        "\n",
        "          # Updating Generator and QHead\n",
        "          self.optimG.zero_grad()\n",
        "\n",
        "          # Fake data treated as real.\n",
        "          probs_fake, output_fake = self.netD(fake_data)\n",
        "          label.fill_(1)\n",
        "          gen_loss = self.criterionD(probs_fake.view(-1), label)\n",
        "\n",
        "          q_logits, q_mu, q_var = self.netQ(output_fake)\n",
        "          target = torch.LongTensor(idx).to(self.device)\n",
        "          # Calculating loss for discrete latent code.\n",
        "          dis_loss = 0\n",
        "          for j in range(self.params['num_dis_c']):\n",
        "              dis_loss += self.criterionQ_dis(q_logits[:, j*10 : j*10 + 10], target[j])\n",
        "\n",
        "          # Calculating loss for continuous latent code.\n",
        "          con_loss = 0\n",
        "          if (self.params['num_con_c'] != 0):\n",
        "              con_loss = self.criterionQ_con(noise[:,-self.params['num_con_c'] : ].view(-1, self.params['num_con_c']), q_mu, q_var)*0.1\n",
        "\n",
        "          # Net loss for generator.\n",
        "          G_loss = gen_loss + dis_loss + con_loss\n",
        "          # Calculate gradients.\n",
        "          G_loss.backward()\n",
        "          # Update parameters.\n",
        "          self.optimG.step()\n",
        "\n",
        "          # Check progress of training.\n",
        "          if i != 0 and i%100 == 0:\n",
        "              print('[%d/%d][%d/%d]\\tLoss_D: %.4f\\tLoss_G: %.4f'\n",
        "                    % (epoch+1,self. params['num_epochs'], i, len(ds), \n",
        "                      D_loss.item(), G_loss.item()))\n",
        "\n",
        "          # Save the losses for plotting.\n",
        "          self.G_losses.append(G_loss.item())\n",
        "          self.D_losses.append(D_loss.item())\n",
        "      with torch.no_grad():\n",
        "        self.netG.eval()\n",
        "        val_output = self.netG(self.val_noise)\n",
        "        grid_image = np.array(vutils.make_grid(val_output.detach().cpu(), normalize=True).permute(1, 2, 0))\n",
        "        # self.save_image(self.normalize(grid_image), epoch)\n",
        "        self.val_outputs.append(grid_image)\n",
        "\n",
        "  @staticmethod\n",
        "  def normalize(x):\n",
        "    x = x * 255.0\n",
        "    x = x.astype(np.uint8)\n",
        "    return x\n",
        "\n",
        "  @staticmethod\n",
        "  def save_image(x, file_name):\n",
        "      cv2.imwrite(f'val_data/{file_name}.png', x)"
      ],
      "metadata": {
        "id": "j6apZ4T0e4ty"
      },
      "execution_count": 53,
      "outputs": []
    },
    {
      "cell_type": "markdown",
      "source": [
        "## 순서\n",
        "1. Discriminator Update\n",
        "2. Generator, QHead Update"
      ],
      "metadata": {
        "id": "ULC8QoQY_C1D"
      }
    },
    {
      "cell_type": "code",
      "source": [
        "transform = transforms.Compose([\n",
        "    transforms.Resize(28),\n",
        "    transforms.CenterCrop(28),\n",
        "    transforms.ToTensor()])\n",
        "datasets = dsets.MNIST('data/mnist/', train='train', download=True, transform = transform)\n",
        "dataloader = torch.utils.data.DataLoader(datasets, \n",
        "                                            batch_size=64, \n",
        "                                            shuffle=True)"
      ],
      "metadata": {
        "id": "pRTUe1v5e4bU"
      },
      "execution_count": 54,
      "outputs": []
    },
    {
      "cell_type": "code",
      "source": [
        "infoGAN = InfoGAN(params)\n",
        "infoGAN.train(dataloader, 100)"
      ],
      "metadata": {
        "id": "IJdwJAhhe4Sy",
        "outputId": "d9618c7e-ef21-4d31-fb1f-5c53acb32c87",
        "colab": {
          "base_uri": "https://localhost:8080/",
          "height": 362
        }
      },
      "execution_count": 55,
      "outputs": [
        {
          "output_type": "stream",
          "name": "stdout",
          "text": [
            "[1/100][100/938]\tLoss_D: 0.9479\tLoss_G: 1.6114\n"
          ]
        },
        {
          "output_type": "error",
          "ename": "KeyboardInterrupt",
          "evalue": "ignored",
          "traceback": [
            "\u001b[0;31m---------------------------------------------------------------------------\u001b[0m",
            "\u001b[0;31mKeyboardInterrupt\u001b[0m                         Traceback (most recent call last)",
            "\u001b[0;32m<ipython-input-55-8ab8f6775b77>\u001b[0m in \u001b[0;36m<module>\u001b[0;34m()\u001b[0m\n\u001b[1;32m      1\u001b[0m \u001b[0minfoGAN\u001b[0m \u001b[0;34m=\u001b[0m \u001b[0mInfoGAN\u001b[0m\u001b[0;34m(\u001b[0m\u001b[0mparams\u001b[0m\u001b[0;34m)\u001b[0m\u001b[0;34m\u001b[0m\u001b[0;34m\u001b[0m\u001b[0m\n\u001b[0;32m----> 2\u001b[0;31m \u001b[0minfoGAN\u001b[0m\u001b[0;34m.\u001b[0m\u001b[0mtrain\u001b[0m\u001b[0;34m(\u001b[0m\u001b[0mdataloader\u001b[0m\u001b[0;34m,\u001b[0m \u001b[0;36m100\u001b[0m\u001b[0;34m)\u001b[0m\u001b[0;34m\u001b[0m\u001b[0;34m\u001b[0m\u001b[0m\n\u001b[0m",
            "\u001b[0;32m<ipython-input-53-00a67248e8d2>\u001b[0m in \u001b[0;36mtrain\u001b[0;34m(self, ds, epochs)\u001b[0m\n\u001b[1;32m     29\u001b[0m           \u001b[0mreal_data\u001b[0m \u001b[0;34m=\u001b[0m \u001b[0mdata\u001b[0m\u001b[0;34m.\u001b[0m\u001b[0mto\u001b[0m\u001b[0;34m(\u001b[0m\u001b[0mself\u001b[0m\u001b[0;34m.\u001b[0m\u001b[0mdevice\u001b[0m\u001b[0;34m)\u001b[0m\u001b[0;34m\u001b[0m\u001b[0;34m\u001b[0m\u001b[0m\n\u001b[1;32m     30\u001b[0m \u001b[0;34m\u001b[0m\u001b[0m\n\u001b[0;32m---> 31\u001b[0;31m           \u001b[0mself\u001b[0m\u001b[0;34m.\u001b[0m\u001b[0moptimD\u001b[0m\u001b[0;34m.\u001b[0m\u001b[0mzero_grad\u001b[0m\u001b[0;34m(\u001b[0m\u001b[0;34m)\u001b[0m\u001b[0;34m\u001b[0m\u001b[0;34m\u001b[0m\u001b[0m\n\u001b[0m\u001b[1;32m     32\u001b[0m \u001b[0;34m\u001b[0m\u001b[0m\n\u001b[1;32m     33\u001b[0m           \u001b[0;31m# Real data\u001b[0m\u001b[0;34m\u001b[0m\u001b[0;34m\u001b[0m\u001b[0;34m\u001b[0m\u001b[0m\n",
            "\u001b[0;32m/usr/local/lib/python3.7/dist-packages/torch/optim/optimizer.py\u001b[0m in \u001b[0;36mzero_grad\u001b[0;34m(self, set_to_none)\u001b[0m\n\u001b[1;32m    214\u001b[0m                                 \u001b[0mp\u001b[0m\u001b[0;34m.\u001b[0m\u001b[0mgrad\u001b[0m\u001b[0;34m.\u001b[0m\u001b[0mdetach_\u001b[0m\u001b[0;34m(\u001b[0m\u001b[0;34m)\u001b[0m\u001b[0;34m\u001b[0m\u001b[0;34m\u001b[0m\u001b[0m\n\u001b[1;32m    215\u001b[0m                             \u001b[0;32melse\u001b[0m\u001b[0;34m:\u001b[0m\u001b[0;34m\u001b[0m\u001b[0;34m\u001b[0m\u001b[0m\n\u001b[0;32m--> 216\u001b[0;31m                                 \u001b[0mp\u001b[0m\u001b[0;34m.\u001b[0m\u001b[0mgrad\u001b[0m\u001b[0;34m.\u001b[0m\u001b[0mrequires_grad_\u001b[0m\u001b[0;34m(\u001b[0m\u001b[0;32mFalse\u001b[0m\u001b[0;34m)\u001b[0m\u001b[0;34m\u001b[0m\u001b[0;34m\u001b[0m\u001b[0m\n\u001b[0m\u001b[1;32m    217\u001b[0m                             \u001b[0mp\u001b[0m\u001b[0;34m.\u001b[0m\u001b[0mgrad\u001b[0m\u001b[0;34m.\u001b[0m\u001b[0mzero_\u001b[0m\u001b[0;34m(\u001b[0m\u001b[0;34m)\u001b[0m\u001b[0;34m\u001b[0m\u001b[0;34m\u001b[0m\u001b[0m\n\u001b[1;32m    218\u001b[0m \u001b[0;34m\u001b[0m\u001b[0m\n",
            "\u001b[0;32m/usr/local/lib/python3.7/dist-packages/torch/_tensor.py\u001b[0m in \u001b[0;36mgrad\u001b[0;34m(self)\u001b[0m\n\u001b[1;32m   1011\u001b[0m             \u001b[0;32mreturn\u001b[0m \u001b[0mhandle_torch_function\u001b[0m\u001b[0;34m(\u001b[0m\u001b[0mTensor\u001b[0m\u001b[0;34m.\u001b[0m\u001b[0mgrad\u001b[0m\u001b[0;34m.\u001b[0m\u001b[0m__get__\u001b[0m\u001b[0;34m,\u001b[0m \u001b[0;34m(\u001b[0m\u001b[0mself\u001b[0m\u001b[0;34m,\u001b[0m\u001b[0;34m)\u001b[0m\u001b[0;34m,\u001b[0m \u001b[0mself\u001b[0m\u001b[0;34m)\u001b[0m  \u001b[0;31m# type: ignore[attr-defined]\u001b[0m\u001b[0;34m\u001b[0m\u001b[0;34m\u001b[0m\u001b[0m\n\u001b[1;32m   1012\u001b[0m \u001b[0;34m\u001b[0m\u001b[0m\n\u001b[0;32m-> 1013\u001b[0;31m         \u001b[0;32mreturn\u001b[0m \u001b[0mself\u001b[0m\u001b[0;34m.\u001b[0m\u001b[0m_grad\u001b[0m\u001b[0;34m\u001b[0m\u001b[0;34m\u001b[0m\u001b[0m\n\u001b[0m\u001b[1;32m   1014\u001b[0m \u001b[0;34m\u001b[0m\u001b[0m\n\u001b[1;32m   1015\u001b[0m     \u001b[0;34m@\u001b[0m\u001b[0mgrad\u001b[0m\u001b[0;34m.\u001b[0m\u001b[0msetter\u001b[0m\u001b[0;34m\u001b[0m\u001b[0;34m\u001b[0m\u001b[0m\n",
            "\u001b[0;31mKeyboardInterrupt\u001b[0m: "
          ]
        }
      ]
    },
    {
      "cell_type": "code",
      "source": [
        "plt.plot(infoGAN.G_losses)\n",
        "plt.plot(infoGAN.D_losses)\n",
        "plt.legend(['G loss', 'D loss'])\n",
        "plt.ylabel('loss')\n",
        "plt.xlabel('iteration')\n",
        "plt.show()"
      ],
      "metadata": {
        "id": "aSqsVLwse4I3",
        "outputId": "4df86e1b-7f80-40cc-9438-fc6e25fe2f7e",
        "colab": {
          "base_uri": "https://localhost:8080/",
          "height": 283
        }
      },
      "execution_count": 42,
      "outputs": [
        {
          "output_type": "display_data",
          "data": {
            "text/plain": [
              "<Figure size 432x288 with 1 Axes>"
            ],
            "image/png": "[encoded data removed]"
          },
          "metadata": {
            "needs_background": "light"
          }
        }
      ]
    },
    {
      "cell_type": "code",
      "source": [
        ""
      ],
      "metadata": {
        "id": "wk8er5Yse3vA"
      },
      "execution_count": null,
      "outputs": []
    },
    {
      "cell_type": "code",
      "source": [
        "os.mkdir('val_data')"
      ],
      "metadata": {
        "id": "tv04AzaIe09j"
      },
      "execution_count": 10,
      "outputs": []
    },
    {
      "cell_type": "code",
      "source": [
        "\"\"\"\n",
        "Discriminator\n",
        "input : torch.Size([64, 1, 28, 28])\n",
        "x1 : torch.Size([64, 64, 14, 14])\n",
        "x2 : torch.Size([64, 128, 7, 7])\n",
        "output : torch.Size([64, 1024, 1, 1])\n",
        "probs : torch.Size([64, 1, 1, 1])\n",
        "\n",
        "QHead\n",
        "input : torch.Size([64, 1024, 1, 1])\n",
        "x : torch.Size([64, 128, 1, 1])\n",
        "disc_logits : torch.Size([64, 10])\n",
        "mu : torch.Size([64, 2])\n",
        "var : torch.Size([64, 2])\n",
        "\"\"\""
      ],
      "metadata": {
        "id": "76DMgeRv2KAD",
        "outputId": "a8fd990d-8af8-4a0b-a8c3-a8774cb755af",
        "colab": {
          "base_uri": "https://localhost:8080/",
          "height": 54
        }
      },
      "execution_count": 56,
      "outputs": [
        {
          "output_type": "execute_result",
          "data": {
            "text/plain": [
              "'\\nDiscriminator\\ninput : torch.Size([64, 1, 28, 28])\\nx1 : torch.Size([64, 64, 14, 14])\\nx2 : torch.Size([64, 128, 7, 7])\\noutput : torch.Size([64, 1024, 1, 1])\\nprobs : torch.Size([64, 1, 1, 1])\\n\\nQHead\\ninput : torch.Size([64, 1024, 1, 1])\\nx : torch.Size([64, 128, 1, 1])\\ndisc_logits : torch.Size([64, 10])\\nmu : torch.Size([64, 2])\\nvar : torch.Size([64, 2])\\n'"
            ],
            "application/vnd.google.colaboratory.intrinsic+json": {
              "type": "string"
            }
          },
          "metadata": {},
          "execution_count": 56
        }
      ]
    },
    {
      "cell_type": "code",
      "source": [
        "# NLL Loss -> mu의 값과 같고, var은 크게"
      ],
      "metadata": {
        "id": "bMSA-7HkIIgH"
      },
      "execution_count": 57,
      "outputs": []
    },
    {
      "cell_type": "code",
      "source": [
        ""
      ],
      "metadata": {
        "id": "UvhVuOXiIk4w"
      },
      "execution_count": null,
      "outputs": []
    }
  ]
}