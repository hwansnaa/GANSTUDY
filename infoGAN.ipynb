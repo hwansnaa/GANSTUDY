{
  "nbformat": 4,
  "nbformat_minor": 0,
  "metadata": {
    "colab": {
      "name": "infoGAN.ipynb의 사본",
      "provenance": [],
      "mount_file_id": "https://github.com/hwansnaa/InfoGAN/blob/main/infoGAN.ipynb",
      "authorship_tag": "ABX9TyMFDUaa2JEswy148LBoRyYl",
      "include_colab_link": true
    },
    "kernelspec": {
      "name": "python3",
      "display_name": "Python 3"
    },
    "language_info": {
      "name": "python"
    },
    "accelerator": "GPU"
  },
  "cells": [
    {
      "cell_type": "markdown",
      "metadata": {
        "id": "view-in-github",
        "colab_type": "text"
      },
      "source": [
        "<a href=\"https://colab.research.google.com/github/hwansnaa/InfoGAN/blob/main/infoGAN.ipynb\" target=\"_parent\"><img src=\"https://colab.research.google.com/assets/colab-badge.svg\" alt=\"Open In Colab\"/></a>"
      ]
    },
    {
      "cell_type": "code",
      "execution_count": 1,
      "metadata": {
        "id": "5WajrzL8H79Z",
        "outputId": "1e83fed5-4f81-4556-9e37-df4e78d4b1d7",
        "colab": {
          "base_uri": "https://localhost:8080/",
          "height": 210
        }
      },
      "outputs": [
        {
          "output_type": "error",
          "ename": "FileExistsError",
          "evalue": "ignored",
          "traceback": [
            "\u001b[0;31m---------------------------------------------------------------------------\u001b[0m",
            "\u001b[0;31mFileExistsError\u001b[0m                           Traceback (most recent call last)",
            "\u001b[0;32m<ipython-input-1-a4dea18ecd3b>\u001b[0m in \u001b[0;36m<module>\u001b[0;34m()\u001b[0m\n\u001b[1;32m     15\u001b[0m \u001b[0;32mimport\u001b[0m \u001b[0mtorchvision\u001b[0m\u001b[0;34m.\u001b[0m\u001b[0mtransforms\u001b[0m \u001b[0;32mas\u001b[0m \u001b[0mtransforms\u001b[0m\u001b[0;34m\u001b[0m\u001b[0;34m\u001b[0m\u001b[0m\n\u001b[1;32m     16\u001b[0m \u001b[0mos\u001b[0m\u001b[0;34m.\u001b[0m\u001b[0mmkdir\u001b[0m\u001b[0;34m(\u001b[0m\u001b[0;34m'val_data'\u001b[0m\u001b[0;34m)\u001b[0m\u001b[0;34m\u001b[0m\u001b[0;34m\u001b[0m\u001b[0m\n\u001b[0;32m---> 17\u001b[0;31m \u001b[0mos\u001b[0m\u001b[0;34m.\u001b[0m\u001b[0mmkdir\u001b[0m\u001b[0;34m(\u001b[0m\u001b[0;34m'rotate'\u001b[0m\u001b[0;34m)\u001b[0m\u001b[0;34m\u001b[0m\u001b[0;34m\u001b[0m\u001b[0m\n\u001b[0m",
            "\u001b[0;31mFileExistsError\u001b[0m: [Errno 17] File exists: 'rotate'"
          ]
        }
      ],
      "source": [
        "import os\n",
        "import cv2\n",
        "import time\n",
        "import random\n",
        "import numpy as np\n",
        "import matplotlib.pyplot as plt\n",
        "import matplotlib.animation as animation\n",
        "\n",
        "import torch\n",
        "import torch.nn as nn\n",
        "import torch.optim as optim\n",
        "import torch.nn.functional as F\n",
        "import torchvision.utils as vutils\n",
        "import torchvision.datasets as dsets\n",
        "import torchvision.transforms as transforms\n",
        "# os.mkdir('val_data')\n",
        "# os.mkdir('rotate')"
      ]
    },
    {
      "cell_type": "markdown",
      "source": [
        "#### 모델 (Generator, Discriminator, QHead)"
      ],
      "metadata": {
        "id": "D9yW-ANxZMq-"
      }
    },
    {
      "cell_type": "code",
      "source": [
        "class Generator(nn.Module):\n",
        "    def __init__(self):\n",
        "        super().__init__()\n",
        "\n",
        "        self.tconv1 = nn.ConvTranspose2d(74, 1024, 1, 1, bias=False)\n",
        "        self.bn1 = nn.BatchNorm2d(1024)\n",
        "\n",
        "        self.tconv2 = nn.ConvTranspose2d(1024, 128, 7, 1, bias=False)\n",
        "        self.bn2 = nn.BatchNorm2d(128)\n",
        "\n",
        "        self.tconv3 = nn.ConvTranspose2d(128, 64, 4, 2, padding=1, bias=False)\n",
        "        self.bn3 = nn.BatchNorm2d(64)\n",
        "\n",
        "        self.tconv4 = nn.ConvTranspose2d(64, 1, 4, 2, padding=1, bias=False)\n",
        "\n",
        "    def forward(self, x):\n",
        "        x = F.relu(self.bn1(self.tconv1(x)))\n",
        "        x = F.relu(self.bn2(self.tconv2(x)))\n",
        "        x = F.relu(self.bn3(self.tconv3(x)))\n",
        "\n",
        "        img = torch.sigmoid(self.tconv4(x))\n",
        "\n",
        "        return img\n",
        "\n",
        "class Discriminator(nn.Module):\n",
        "    def __init__(self):\n",
        "        super().__init__()\n",
        "\n",
        "        self.conv1 = nn.Conv2d(1, 64, 4, 2, 1)\n",
        "\n",
        "        self.conv2 = nn.Conv2d(64, 128, 4, 2, 1, bias=False)\n",
        "        self.bn2 = nn.BatchNorm2d(128)\n",
        "\n",
        "        self.conv3 = nn.Conv2d(128, 1024, 7, bias=False)\n",
        "        self.bn3 = nn.BatchNorm2d(1024)\n",
        "\n",
        "        self.conv4 = nn.Conv2d(1024, 1, 1)\n",
        "\n",
        "    def forward(self, x):\n",
        "        x = F.leaky_relu(self.conv1(x), 0.1, inplace=True)\n",
        "        x = F.leaky_relu(self.bn2(self.conv2(x)), 0.1, inplace=True)\n",
        "        output = F.leaky_relu(self.bn3(self.conv3(x)), 0.1, inplace=True)\n",
        "        probs = torch.sigmoid(self.conv4(output))\n",
        "\n",
        "        return probs, output\n",
        "\n",
        "class QHead(nn.Module):\n",
        "    def __init__(self):\n",
        "        super().__init__()\n",
        "\n",
        "        self.conv1 = nn.Conv2d(1024, 128, 1, bias=False)\n",
        "        self.bn1 = nn.BatchNorm2d(128)\n",
        "\n",
        "        self.conv_disc = nn.Conv2d(128, 10, 1)\n",
        "        self.conv_mu = nn.Conv2d(128, 2, 1)\n",
        "        self.conv_var = nn.Conv2d(128, 2, 1)\n",
        "\n",
        "    def forward(self, x):\n",
        "        x = F.leaky_relu(self.bn1(self.conv1(x)), 0.1, inplace=True)\n",
        "\n",
        "        disc_logits = self.conv_disc(x).squeeze()\n",
        "\n",
        "        mu = self.conv_mu(x).squeeze()\n",
        "        var = torch.exp(self.conv_var(x).squeeze())\n",
        "\n",
        "        return disc_logits, mu, var"
      ],
      "metadata": {
        "id": "V-7AEgFCZ_qs"
      },
      "execution_count": 2,
      "outputs": []
    },
    {
      "cell_type": "markdown",
      "source": [
        ""
      ],
      "metadata": {
        "id": "5UlsNZKi8zvv"
      }
    },
    {
      "cell_type": "code",
      "source": [
        "params = {\n",
        "    'batch_size': 256,# Batch size.\n",
        "    'num_epochs': 100,# Number of epochs to train for.\n",
        "    'learning_rate': 2e-4,# Learning rate.\n",
        "    'beta1': 0.5,\n",
        "    'beta2': 0.999,\n",
        "    'save_epoch' : 25,\n",
        "    'dataset' : 'MNIST'\n",
        "}\n",
        "params['num_z'] = 62\n",
        "params['num_dis_c'] = 1\n",
        "params['dis_c_dim'] = 10\n",
        "params['num_con_c'] = 2"
      ],
      "metadata": {
        "id": "NLkX4cfslyeo"
      },
      "execution_count": 3,
      "outputs": []
    },
    {
      "cell_type": "code",
      "source": [
        "def noise_sample(n_dis_c, dis_c_dim, n_con_c, n_z, batch_size, device):\n",
        "    \"\"\"\n",
        "    input -> \n",
        "    n_dis_c : Discrete latent value의 수(mnist의 경우 1 (Domain))\n",
        "    dis_c_dim : Disctrete latent value의 Dimension(mnist의 경우 10 (0-9의 class 수))\n",
        "    n_con_c : Continuous latent value의 수(mnist의 경우 2(bold, rotate))\n",
        "    n_z : random noise z의 dimension\n",
        "    batch_size : Batch Size\n",
        "    device : GPU/CPU\n",
        "\n",
        "    output -> \n",
        "    noise : 생성된 noise\n",
        "    idx : 생성된 이미지의 Class value\n",
        "\n",
        "    \"\"\"\n",
        "    z = torch.randn(batch_size, n_z, 1, 1, device=device)\n",
        "\n",
        "    idx = np.zeros((n_dis_c, batch_size))\n",
        "    if(n_dis_c != 0):\n",
        "        dis_c = torch.zeros(batch_size, n_dis_c, dis_c_dim, device=device)\n",
        "        \n",
        "        for i in range(n_dis_c):\n",
        "            idx[i] = np.random.randint(dis_c_dim, size=batch_size)\n",
        "            dis_c[torch.arange(0, batch_size), i, idx[i]] = 1.0\n",
        "\n",
        "        dis_c = dis_c.view(batch_size, -1, 1, 1)\n",
        "\n",
        "    if(n_con_c != 0):\n",
        "        # Random uniform between -1 and 1.\n",
        "        con_c = torch.rand(batch_size, n_con_c, 1, 1, device=device) * 2 - 1\n",
        "\n",
        "    noise = z\n",
        "    if(n_dis_c != 0):\n",
        "        noise = torch.cat((z, dis_c), dim=1)\n",
        "    if(n_con_c != 0):\n",
        "        noise = torch.cat((noise, con_c), dim=1)\n",
        "\n",
        "    return noise, idx"
      ],
      "metadata": {
        "id": "Z4nNMMx-thye"
      },
      "execution_count": 4,
      "outputs": []
    },
    {
      "cell_type": "code",
      "source": [
        "class InfoGAN:\n",
        "  def __init__(self, params):\n",
        "      self.params = params\n",
        "      self.netG = Generator()\n",
        "      self.netD = Discriminator()\n",
        "      self.netQ = QHead()\n",
        "      self.optimD = optim.Adam([{'params': self.netD.parameters()}], lr=params['learning_rate'], betas=(params['beta1'], params['beta2']))\n",
        "      self.optimG = optim.Adam([{'params': self.netG.parameters()}, {'params': self.netQ.parameters()}], lr=params['learning_rate'], betas=(params['beta1'], params['beta2']))\n",
        "\n",
        "      self.criterionD = nn.BCELoss() # Binary CrossEntropy / True, False\n",
        "      self.criterionQ_dis = nn.CrossEntropyLoss() # Multiple Class\n",
        "      self.criterionQ_con = nn.GaussianNLLLoss()\n",
        "      \n",
        "      self.device = torch.device(\"cuda:0\" if (torch.cuda.is_available()) else \"cpu\")\n",
        "\n",
        "  def train(self, ds, epochs = 100):\n",
        "    self.netG = self.netG.to(self.device)\n",
        "    self.netD = self.netD.to(self.device)\n",
        "    self.netQ = self.netQ.to(self.device)\n",
        "    self.G_losses = []\n",
        "    self.D_losses = []\n",
        "    self.val_outputs = []\n",
        "    self.val_noise, idx = noise_sample(self.params['num_dis_c'], self.params['dis_c_dim'], self.params['num_con_c'], self.params['num_z'], 36, self.device)\n",
        "    for epoch in range(epochs):\n",
        "      print(f'process... {epoch + 1}/{epochs}')\n",
        "      for i, (data, _) in enumerate(ds, 0):\n",
        "          # Get batch size\n",
        "          b_size = data.size(0)\n",
        "          # Transfer data tensor to GPU/CPU (device)\n",
        "          real_data = data.to(self.device)\n",
        "\n",
        "          self.optimD.zero_grad()\n",
        "\n",
        "          # Real data\n",
        "          label = torch.full((b_size, ), 1, device=self.device, dtype=torch.float32)\n",
        "          probs_real, _ = self.netD(real_data)\n",
        "          loss_real = self.criterionD(probs_real.view(-1), label)\n",
        "          \n",
        "          loss_real.backward()\n",
        "\n",
        "          # Fake data\n",
        "          label.fill_(0)\n",
        "          noise, idx = noise_sample(self.params['num_dis_c'], self.params['dis_c_dim'], self.params['num_con_c'], self.params['num_z'], b_size, self.device)\n",
        "          fake_data = self.netG(noise)\n",
        "          probs_fake, output_fake = self.netD(fake_data.detach())\n",
        "          loss_fake = self.criterionD(probs_fake.view(-1), label)\n",
        "          \n",
        "          loss_fake.backward()\n",
        "\n",
        "          # Net Loss for the discriminator & Update\n",
        "          D_loss = loss_real + loss_fake\n",
        "          \n",
        "          self.optimD.step()\n",
        "\n",
        "          # Updating Generator and QHead\n",
        "          self.optimG.zero_grad()\n",
        "\n",
        "          # Fake data treated as real.\n",
        "          probs_fake, output_fake = self.netD(fake_data)\n",
        "          label.fill_(1)\n",
        "          gen_loss = self.criterionD(probs_fake.view(-1), label)\n",
        "\n",
        "          q_logits, q_mu, q_var = self.netQ(output_fake)\n",
        "          target = torch.LongTensor(idx).to(self.device)\n",
        "          # Calculating loss for discrete latent code.\n",
        "          dis_loss = 0\n",
        "          for j in range(self.params['num_dis_c']):\n",
        "              dis_loss += self.criterionQ_dis(q_logits[:, j*10 : j*10 + 10], target[j])\n",
        "\n",
        "          # Calculating loss for continuous latent code.\n",
        "          con_loss = 0\n",
        "          if (self.params['num_con_c'] != 0):\n",
        "              con_loss = self.criterionQ_con(noise[:,-self.params['num_con_c'] : ].view(-1, self.params['num_con_c']), q_mu, q_var)*0.1\n",
        "\n",
        "          # Net loss for generator.\n",
        "          G_loss = gen_loss + dis_loss + con_loss\n",
        "          # Calculate gradients.\n",
        "          G_loss.backward()\n",
        "          # Update parameters.\n",
        "          self.optimG.step()\n",
        "\n",
        "          # Check progress of training.\n",
        "          if i != 0 and i%100 == 0:\n",
        "              print('[%d/%d][%d/%d]\\tLoss_D: %.4f\\tLoss_G: %.4f'\n",
        "                    % (epoch+1,self. params['num_epochs'], i, len(ds), \n",
        "                      D_loss.item(), G_loss.item()))\n",
        "\n",
        "          # Save the losses for plotting.\n",
        "          self.G_losses.append(G_loss.item())\n",
        "          self.D_losses.append(D_loss.item())\n",
        "      with torch.no_grad():\n",
        "        self.netG.eval()\n",
        "        val_output = self.netG(self.val_noise)\n",
        "        grid_image = np.array(vutils.make_grid(val_output.detach().cpu(), normalize=True).permute(1, 2, 0))\n",
        "        self.save_image(self.normalize(grid_image), 'val_data', epoch)\n",
        "        self.val_outputs.append(grid_image)\n",
        "\n",
        "  def test_contunuous(self,noise, rotate):\n",
        "    with torch.no_grad():\n",
        "        self.netG.eval()\n",
        "        val_output = self.netG(noise)\n",
        "        grid_image = np.array(vutils.make_grid(val_output.detach().cpu(), normalize=True).permute(1, 2, 0))\n",
        "        self.save_image(self.normalize(grid_image), 'rotate', rotate)\n",
        "    \n",
        "\n",
        "  @staticmethod\n",
        "  def normalize(x):\n",
        "    x = x * 255.0\n",
        "    x = x.astype(np.uint8)\n",
        "    return x\n",
        "\n",
        "  @staticmethod\n",
        "  def save_image(x, folder_path, file_name):\n",
        "      cv2.imwrite(f'{folder_path}/{file_name}.png', x)"
      ],
      "metadata": {
        "id": "j6apZ4T0e4ty"
      },
      "execution_count": 5,
      "outputs": []
    },
    {
      "cell_type": "markdown",
      "source": [
        "###  학습 순서\n",
        "1. Discriminator Update\n",
        "2. Generator, QHead Update"
      ],
      "metadata": {
        "id": "ULC8QoQY_C1D"
      }
    },
    {
      "cell_type": "code",
      "source": [
        "transform = transforms.Compose([\n",
        "    transforms.Resize(28),\n",
        "    transforms.CenterCrop(28),\n",
        "    transforms.ToTensor()])\n",
        "datasets = dsets.MNIST('data/mnist/', train='train', download=True, transform = transform)\n",
        "dataloader = torch.utils.data.DataLoader(datasets, \n",
        "                                            batch_size=256, \n",
        "                                            shuffle=True)"
      ],
      "metadata": {
        "id": "pRTUe1v5e4bU"
      },
      "execution_count": 6,
      "outputs": []
    },
    {
      "cell_type": "code",
      "source": [
        "infoGAN = InfoGAN(params)\n",
        "infoGAN.train(dataloader, 50)"
      ],
      "metadata": {
        "id": "IJdwJAhhe4Sy",
        "outputId": "9f05ce41-817e-4a56-bac2-62ae8e22553a",
        "colab": {
          "base_uri": "https://localhost:8080/"
        }
      },
      "execution_count": 7,
      "outputs": [
        {
          "output_type": "stream",
          "name": "stdout",
          "text": [
            "process... 1/50\n",
            "[1/100][100/235]\tLoss_D: 0.6751\tLoss_G: 1.5023\n",
            "[1/100][200/235]\tLoss_D: 0.6295\tLoss_G: 2.0209\n",
            "process... 2/50\n",
            "[2/100][100/235]\tLoss_D: 0.7987\tLoss_G: 1.6159\n",
            "[2/100][200/235]\tLoss_D: 0.7873\tLoss_G: 1.6348\n",
            "process... 3/50\n",
            "[3/100][100/235]\tLoss_D: 0.7379\tLoss_G: 1.7546\n",
            "[3/100][200/235]\tLoss_D: 0.7894\tLoss_G: 1.4634\n",
            "process... 4/50\n",
            "[4/100][100/235]\tLoss_D: 0.9292\tLoss_G: 1.7229\n",
            "[4/100][200/235]\tLoss_D: 0.7886\tLoss_G: 1.3658\n",
            "process... 5/50\n",
            "[5/100][100/235]\tLoss_D: 0.9173\tLoss_G: 1.3878\n",
            "[5/100][200/235]\tLoss_D: 0.9702\tLoss_G: 1.3930\n",
            "process... 6/50\n",
            "[6/100][100/235]\tLoss_D: 1.0663\tLoss_G: 1.3079\n",
            "[6/100][200/235]\tLoss_D: 0.9576\tLoss_G: 1.2784\n",
            "process... 7/50\n",
            "[7/100][100/235]\tLoss_D: 0.9359\tLoss_G: 1.3401\n",
            "[7/100][200/235]\tLoss_D: 0.9514\tLoss_G: 1.3279\n",
            "process... 8/50\n",
            "[8/100][100/235]\tLoss_D: 0.9069\tLoss_G: 1.2157\n",
            "[8/100][200/235]\tLoss_D: 1.0110\tLoss_G: 1.4233\n",
            "process... 9/50\n",
            "[9/100][100/235]\tLoss_D: 0.9262\tLoss_G: 1.2846\n",
            "[9/100][200/235]\tLoss_D: 0.9820\tLoss_G: 1.2946\n",
            "process... 10/50\n",
            "[10/100][100/235]\tLoss_D: 1.0175\tLoss_G: 1.2792\n",
            "[10/100][200/235]\tLoss_D: 1.0092\tLoss_G: 1.2542\n",
            "process... 11/50\n",
            "[11/100][100/235]\tLoss_D: 1.0068\tLoss_G: 1.2756\n",
            "[11/100][200/235]\tLoss_D: 1.0996\tLoss_G: 1.5028\n",
            "process... 12/50\n",
            "[12/100][100/235]\tLoss_D: 0.9770\tLoss_G: 1.5999\n",
            "[12/100][200/235]\tLoss_D: 1.0205\tLoss_G: 1.2188\n",
            "process... 13/50\n",
            "[13/100][100/235]\tLoss_D: 0.9083\tLoss_G: 1.1131\n",
            "[13/100][200/235]\tLoss_D: 0.9288\tLoss_G: 1.1738\n",
            "process... 14/50\n",
            "[14/100][100/235]\tLoss_D: 0.8949\tLoss_G: 1.2381\n",
            "[14/100][200/235]\tLoss_D: 0.8734\tLoss_G: 1.1943\n",
            "process... 15/50\n",
            "[15/100][100/235]\tLoss_D: 0.8747\tLoss_G: 1.5257\n",
            "[15/100][200/235]\tLoss_D: 0.8926\tLoss_G: 1.4294\n",
            "process... 16/50\n",
            "[16/100][100/235]\tLoss_D: 0.9475\tLoss_G: 1.4388\n",
            "[16/100][200/235]\tLoss_D: 0.8322\tLoss_G: 1.4124\n",
            "process... 17/50\n",
            "[17/100][100/235]\tLoss_D: 0.9127\tLoss_G: 1.1862\n",
            "[17/100][200/235]\tLoss_D: 0.8334\tLoss_G: 1.3051\n",
            "process... 18/50\n",
            "[18/100][100/235]\tLoss_D: 0.8579\tLoss_G: 1.1467\n",
            "[18/100][200/235]\tLoss_D: 0.8759\tLoss_G: 1.5649\n",
            "process... 19/50\n",
            "[19/100][100/235]\tLoss_D: 0.8801\tLoss_G: 1.2749\n",
            "[19/100][200/235]\tLoss_D: 0.7833\tLoss_G: 1.6316\n",
            "process... 20/50\n",
            "[20/100][100/235]\tLoss_D: 0.7690\tLoss_G: 1.4390\n",
            "[20/100][200/235]\tLoss_D: 0.7558\tLoss_G: 1.4983\n",
            "process... 21/50\n",
            "[21/100][100/235]\tLoss_D: 0.8047\tLoss_G: 1.5819\n",
            "[21/100][200/235]\tLoss_D: 0.7920\tLoss_G: 1.5264\n",
            "process... 22/50\n",
            "[22/100][100/235]\tLoss_D: 0.7493\tLoss_G: 1.9240\n",
            "[22/100][200/235]\tLoss_D: 0.7320\tLoss_G: 1.6237\n",
            "process... 23/50\n",
            "[23/100][100/235]\tLoss_D: 0.8186\tLoss_G: 1.9528\n",
            "[23/100][200/235]\tLoss_D: 0.7418\tLoss_G: 1.9246\n",
            "process... 24/50\n",
            "[24/100][100/235]\tLoss_D: 0.6853\tLoss_G: 1.4466\n",
            "[24/100][200/235]\tLoss_D: 0.7799\tLoss_G: 1.9515\n",
            "process... 25/50\n",
            "[25/100][100/235]\tLoss_D: 0.6875\tLoss_G: 2.0540\n",
            "[25/100][200/235]\tLoss_D: 1.0322\tLoss_G: 1.7910\n",
            "process... 26/50\n",
            "[26/100][100/235]\tLoss_D: 0.6742\tLoss_G: 1.8146\n",
            "[26/100][200/235]\tLoss_D: 0.5837\tLoss_G: 1.7802\n",
            "process... 27/50\n",
            "[27/100][100/235]\tLoss_D: 0.7204\tLoss_G: 1.7587\n",
            "[27/100][200/235]\tLoss_D: 0.6379\tLoss_G: 1.4826\n",
            "process... 28/50\n",
            "[28/100][100/235]\tLoss_D: 0.7308\tLoss_G: 2.0301\n",
            "[28/100][200/235]\tLoss_D: 0.7812\tLoss_G: 1.6478\n",
            "process... 29/50\n",
            "[29/100][100/235]\tLoss_D: 0.6576\tLoss_G: 1.8896\n",
            "[29/100][200/235]\tLoss_D: 0.7661\tLoss_G: 1.5990\n",
            "process... 30/50\n",
            "[30/100][100/235]\tLoss_D: 0.5539\tLoss_G: 2.0366\n",
            "[30/100][200/235]\tLoss_D: 0.6218\tLoss_G: 2.0019\n",
            "process... 31/50\n",
            "[31/100][100/235]\tLoss_D: 0.5821\tLoss_G: 2.0602\n",
            "[31/100][200/235]\tLoss_D: 0.5779\tLoss_G: 1.7784\n",
            "process... 32/50\n",
            "[32/100][100/235]\tLoss_D: 0.6928\tLoss_G: 1.9879\n",
            "[32/100][200/235]\tLoss_D: 0.5582\tLoss_G: 2.1376\n",
            "process... 33/50\n",
            "[33/100][100/235]\tLoss_D: 0.6247\tLoss_G: 2.4478\n",
            "[33/100][200/235]\tLoss_D: 0.6890\tLoss_G: 1.8431\n",
            "process... 34/50\n",
            "[34/100][100/235]\tLoss_D: 0.5210\tLoss_G: 2.1907\n",
            "[34/100][200/235]\tLoss_D: 0.5075\tLoss_G: 2.4232\n",
            "process... 35/50\n",
            "[35/100][100/235]\tLoss_D: 0.5148\tLoss_G: 2.3723\n",
            "[35/100][200/235]\tLoss_D: 0.4909\tLoss_G: 2.1721\n",
            "process... 36/50\n",
            "[36/100][100/235]\tLoss_D: 0.5236\tLoss_G: 2.3442\n",
            "[36/100][200/235]\tLoss_D: 0.6313\tLoss_G: 1.8537\n",
            "process... 37/50\n",
            "[37/100][100/235]\tLoss_D: 0.6068\tLoss_G: 2.1129\n",
            "[37/100][200/235]\tLoss_D: 0.5652\tLoss_G: 2.0771\n",
            "process... 38/50\n",
            "[38/100][100/235]\tLoss_D: 0.4804\tLoss_G: 2.1143\n",
            "[38/100][200/235]\tLoss_D: 0.5940\tLoss_G: 2.2740\n",
            "process... 39/50\n",
            "[39/100][100/235]\tLoss_D: 0.4516\tLoss_G: 2.7210\n",
            "[39/100][200/235]\tLoss_D: 0.6099\tLoss_G: 2.3811\n",
            "process... 40/50\n",
            "[40/100][100/235]\tLoss_D: 0.5845\tLoss_G: 1.7880\n",
            "[40/100][200/235]\tLoss_D: 0.5613\tLoss_G: 2.3464\n",
            "process... 41/50\n",
            "[41/100][100/235]\tLoss_D: 0.4619\tLoss_G: 2.3773\n",
            "[41/100][200/235]\tLoss_D: 0.4114\tLoss_G: 2.2530\n",
            "process... 42/50\n",
            "[42/100][100/235]\tLoss_D: 0.5345\tLoss_G: 1.7309\n",
            "[42/100][200/235]\tLoss_D: 0.5299\tLoss_G: 2.6003\n",
            "process... 43/50\n",
            "[43/100][100/235]\tLoss_D: 0.5660\tLoss_G: 2.9837\n",
            "[43/100][200/235]\tLoss_D: 0.4651\tLoss_G: 2.7588\n",
            "process... 44/50\n",
            "[44/100][100/235]\tLoss_D: 0.3829\tLoss_G: 2.8122\n",
            "[44/100][200/235]\tLoss_D: 0.4290\tLoss_G: 2.0239\n",
            "process... 45/50\n",
            "[45/100][100/235]\tLoss_D: 0.5920\tLoss_G: 2.0909\n",
            "[45/100][200/235]\tLoss_D: 0.5480\tLoss_G: 2.0896\n",
            "process... 46/50\n",
            "[46/100][100/235]\tLoss_D: 0.5142\tLoss_G: 1.8487\n",
            "[46/100][200/235]\tLoss_D: 0.4048\tLoss_G: 2.4457\n",
            "process... 47/50\n",
            "[47/100][100/235]\tLoss_D: 0.5138\tLoss_G: 2.0451\n",
            "[47/100][200/235]\tLoss_D: 0.4492\tLoss_G: 2.9270\n",
            "process... 48/50\n",
            "[48/100][100/235]\tLoss_D: 0.4771\tLoss_G: 2.6283\n",
            "[48/100][200/235]\tLoss_D: 0.4316\tLoss_G: 2.5221\n",
            "process... 49/50\n",
            "[49/100][100/235]\tLoss_D: 0.5069\tLoss_G: 2.7635\n",
            "[49/100][200/235]\tLoss_D: 0.4442\tLoss_G: 2.2856\n",
            "process... 50/50\n",
            "[50/100][100/235]\tLoss_D: 0.4751\tLoss_G: 3.2387\n",
            "[50/100][200/235]\tLoss_D: 0.3793\tLoss_G: 2.3030\n"
          ]
        }
      ]
    },
    {
      "cell_type": "code",
      "source": [
        "plt.plot(infoGAN.G_losses)\n",
        "plt.plot(infoGAN.D_losses)\n",
        "plt.legend(['G loss', 'D loss'])\n",
        "plt.ylabel('loss')\n",
        "plt.xlabel('iteration')\n",
        "plt.show()"
      ],
      "metadata": {
        "id": "y-Uw0hfPFX7K",
        "outputId": "559be20e-2c61-4481-8be9-cd4782396667",
        "colab": {
          "base_uri": "https://localhost:8080/",
          "height": 279
        }
      },
      "execution_count": 8,
      "outputs": [
        {
          "output_type": "display_data",
          "data": {
            "text/plain": [
              "<Figure size 432x288 with 1 Axes>"
            ],
            "image/png": "[encoded data removed]"
          },
          "metadata": {
            "needs_background": "light"
          }
        }
      ]
    },
    {
      "cell_type": "code",
      "source": [
        "noise = infoGAN.val_noise\n",
        "value = [-2 +(x)/20 for x in range(81)]\n",
        "for idx, x in enumerate(value):\n",
        "  noise[:, -2, ...] = x\n",
        "  infoGAN.test_contunuous(noise, idx)"
      ],
      "metadata": {
        "id": "jSQwphREOvEL"
      },
      "execution_count": 10,
      "outputs": []
    },
    {
      "cell_type": "code",
      "source": [
        "# Epoch 100"
      ],
      "metadata": {
        "id": "aSqsVLwse4I3",
        "outputId": "f0996de2-0ec2-4f35-f19f-b310405a46f9",
        "colab": {
          "base_uri": "https://localhost:8080/",
          "height": 279
        }
      },
      "execution_count": null,
      "outputs": [
        {
          "output_type": "display_data",
          "data": {
            "text/plain": [
              "<Figure size 432x288 with 1 Axes>"
            ],
            "image/png": "[encoded data removed]"
          },
          "metadata": {
            "needs_background": "light"
          }
        }
      ]
    },
    {
      "cell_type": "code",
      "source": [
        "\"\"\"\n",
        "Discriminator\n",
        "input : torch.Size([64, 1, 28, 28])\n",
        "x1 : torch.Size([64, 64, 14, 14])\n",
        "x2 : torch.Size([64, 128, 7, 7])\n",
        "output : torch.Size([64, 1024, 1, 1])\n",
        "probs : torch.Size([64, 1, 1, 1])\n",
        "\n",
        "QHead\n",
        "input : torch.Size([64, 1024, 1, 1])\n",
        "x : torch.Size([64, 128, 1, 1])\n",
        "disc_logits : torch.Size([64, 10])\n",
        "mu : torch.Size([64, 2])\n",
        "var : torch.Size([64, 2])\n",
        "\"\"\""
      ],
      "metadata": {
        "id": "76DMgeRv2KAD",
        "colab": {
          "base_uri": "https://localhost:8080/",
          "height": 54
        },
        "outputId": "a8fd990d-8af8-4a0b-a8c3-a8774cb755af"
      },
      "execution_count": null,
      "outputs": [
        {
          "output_type": "execute_result",
          "data": {
            "text/plain": [
              "'\\nDiscriminator\\ninput : torch.Size([64, 1, 28, 28])\\nx1 : torch.Size([64, 64, 14, 14])\\nx2 : torch.Size([64, 128, 7, 7])\\noutput : torch.Size([64, 1024, 1, 1])\\nprobs : torch.Size([64, 1, 1, 1])\\n\\nQHead\\ninput : torch.Size([64, 1024, 1, 1])\\nx : torch.Size([64, 128, 1, 1])\\ndisc_logits : torch.Size([64, 10])\\nmu : torch.Size([64, 2])\\nvar : torch.Size([64, 2])\\n'"
            ],
            "application/vnd.google.colaboratory.intrinsic+json": {
              "type": "string"
            }
          },
          "metadata": {},
          "execution_count": 56
        }
      ]
    }
  ]
}